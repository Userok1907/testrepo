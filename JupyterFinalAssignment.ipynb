{
 "cells": [
  {
   "cell_type": "markdown",
   "id": "99a12479-66db-4690-b6c2-600a7b9f0221",
   "metadata": {},
   "source": [
    "# Data Science Tools and Ecosystem"
   ]
  },
  {
   "cell_type": "markdown",
   "id": "d123de15-4675-4a9e-a78f-49df54d6fda2",
   "metadata": {},
   "source": [
    "**In this notebook, Data Science Tools and Ecosystem are summarized.** "
   ]
  },
  {
   "cell_type": "markdown",
   "id": "b9f812d6-65de-46a1-a4ea-2a58d0f6412f",
   "metadata": {},
   "source": [
    "**Some of the popular languages that Data Scientists use are:**\n",
    "1. Python\n",
    "2. R\n",
    "3. SQL\n"
   ]
  },
  {
   "cell_type": "markdown",
   "id": "b75f9083-1ae5-46c8-90b5-fdef23f13bc2",
   "metadata": {},
   "source": [
    "**Some of the commonly used libraries used by Data Scientists include:**\n",
    "1. ggplot2\n",
    "2. Lattice\n",
    "3. Matplotlib\r\n",
    "\n",
    "\n",
    "\n",
    "\n",
    "\n",
    "\n"
   ]
  },
  {
   "cell_type": "markdown",
   "id": "5bec5eba-f340-4061-ba0b-95aef8ebc89d",
   "metadata": {},
   "source": [
    "| Data Science Tools |\n",
    "|--------------------|\n",
    "| Apache AirFlow |\n",
    "| KubeFlow |\n",
    "| NodeRED |\n"
   ]
  },
  {
   "cell_type": "markdown",
   "id": "7bb707ab-14c0-4575-9756-fbb66b2f8f22",
   "metadata": {},
   "source": [
    "### Below are a few examples of evaluating arithmetic expressions in Python"
   ]
  },
  {
   "cell_type": "markdown",
   "id": "227e41e2-70f1-475d-97bd-0e86c0f128b1",
   "metadata": {},
   "source": [
    "**This a simple arithmetic expression to mutiply then add integers**\n",
    "\n"
   ]
  },
  {
   "cell_type": "code",
   "execution_count": 39,
   "id": "6a6b6971-f852-40cd-b4ab-49c989f3b6ec",
   "metadata": {},
   "outputs": [
    {
     "data": {
      "text/plain": [
       "2.2222222222222223"
      ]
     },
     "execution_count": 39,
     "metadata": {},
     "output_type": "execute_result"
    }
   ],
   "source": [
    "\n",
    "min = 200\n",
    "MinToHr = 90\n",
    "Hr=min/MinToHr\n",
    "print;(Hr)\n"
   ]
  },
  {
   "cell_type": "markdown",
   "id": "e00e1ff9-82f3-4552-9a3a-9ccb615d19f0",
   "metadata": {},
   "source": [
    "**Objectives:**\n",
    "\n",
    "- List popular languages for Data Science\n",
    "- List popular Libraries for Data Science\n",
    "- Converting 200 min. to hours"
   ]
  },
  {
   "cell_type": "markdown",
   "id": "9efeeb39-8816-4b6d-8b06-d2a7ecd4a15f",
   "metadata": {},
   "source": [
    "## Auther : John Edmund"
   ]
  },
  {
   "cell_type": "code",
   "execution_count": null,
   "id": "c2715ecf-3719-4ea7-88e8-4ceb8f87c26f",
   "metadata": {},
   "outputs": [],
   "source": []
  }
 ],
 "metadata": {
  "kernelspec": {
   "display_name": "Python 3 (ipykernel)",
   "language": "python",
   "name": "python3"
  },
  "language_info": {
   "codemirror_mode": {
    "name": "ipython",
    "version": 3
   },
   "file_extension": ".py",
   "mimetype": "text/x-python",
   "name": "python",
   "nbconvert_exporter": "python",
   "pygments_lexer": "ipython3",
   "version": "3.11.7"
  }
 },
 "nbformat": 4,
 "nbformat_minor": 5
}
